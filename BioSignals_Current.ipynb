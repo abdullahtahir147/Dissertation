{
  "nbformat": 4,
  "nbformat_minor": 0,
  "metadata": {
    "colab": {
      "provenance": []
    },
    "kernelspec": {
      "name": "python3",
      "display_name": "Python 3"
    },
    "language_info": {
      "name": "python"
    }
  },
  "cells": [
    {
      "cell_type": "markdown",
      "source": [
        "## Import Packages"
      ],
      "metadata": {
        "id": "JN6cg1D94oBJ"
      }
    },
    {
      "cell_type": "code",
      "source": [
        "# Analyzing, cleaning, exploring data\n",
        "import pandas as pd\n",
        "from pandas import DataFrame\n",
        "import re\n",
        "import glob\n",
        "\n",
        "# Performing math operations on arrays and other structures.\n",
        "import numpy as np\n",
        "\n",
        "# Visualizing data\n",
        "import matplotlib.pyplot as plt\n",
        "import seaborn as sns\n",
        "\n",
        "from sklearn.preprocessing import LabelEncoder\n",
        "\n",
        "import pywt\n",
        "\n",
        "from sklearn.preprocessing import LabelEncoder, OneHotEncoder\n",
        "\n",
        "\n",
        "from sklearn.model_selection import train_test_split\n",
        "\n",
        "from tensorflow.keras.models import Sequential\n",
        "from tensorflow.keras.layers import Conv2D, MaxPooling2D, Flatten, Dense\n",
        "\n",
        "from sklearn.metrics import accuracy_score\n",
        "from sklearn.metrics import confusion_matrix\n",
        "\n"
      ],
      "metadata": {
        "id": "mrjhWVNkcyFg"
      },
      "execution_count": 56,
      "outputs": []
    },
    {
      "cell_type": "markdown",
      "source": [
        "## Import and Process Data\n",
        "\n",
        "In the cell below we import 700 files, assign columns, extract names and numbers from the file names and build a combined dataframe."
      ],
      "metadata": {
        "id": "uGHRW0sY4uAD"
      }
    },
    {
      "cell_type": "code",
      "source": [
        "# Initialize Lists\n",
        "truncated_data = []\n",
        "new_list2 = []\n",
        "dataframes = []\n",
        "total_num_rows = 0\n",
        "extracted_strings = []\n",
        "gesture_list = []\n",
        "\n",
        "# Specify the folder path where the CSV files are located\n",
        "folder_path = \"/content/drive/MyDrive/EMGforMSc_copy/\"\n",
        "\n",
        "# Column Names\n",
        "columns = ['Timestamp', 'El1', 'El2', 'El3','El4', 'El5', 'El6','El7', 'El8']\n",
        "\n",
        "\n",
        "# Get a list of all CSV files in the folder\n",
        "file_list = glob.glob(folder_path + \"*.csv\")\n",
        "\n",
        "for file in file_list:\n",
        "    df = pd.read_csv(file, names=columns)\n",
        "\n",
        "    # Truncate the DataFrames to 100 rows\n",
        "    truncated_df = df[:100]\n",
        "\n",
        "    # Add the truncated DataFrame to the list\n",
        "    truncated_data.append(truncated_df)\n",
        "    #num_rows = 200\n",
        "\n",
        "    file_name = file.split(\"/\")[-1]  # Extract the file name from the file path\n",
        "    gesture = re.search(r'-(.*?)-', file_name).group(1)  # Extract the desired string using regex\n",
        "\n",
        "    # Get a list for the target variable\n",
        "    gesture_list.extend([gesture])\n",
        "\n",
        "    # Get a list in case we need to add a column to the df\n",
        "    extracted_strings.extend([gesture] * num_rows)\n",
        "\n",
        "    # Get the Patient ID\n",
        "    extracted_numbers = re.findall(r'\\d+', file)[0]\n",
        "\n",
        "\n",
        "    #new_list = [extracted_numbers] * num_rows\n",
        "    #new_list2.append(new_list)\n",
        "    #dataframes.append(df)\n",
        "\n",
        "    #total_num_rows += num_rows\n",
        "    #filtered_dataframes = [truncated_data for truncated_data in dataframes if len(truncated_data) <= 200]\n",
        "\n",
        "\n",
        "\n",
        "\n",
        "combined_df = pd.concat(truncated_data, ignore_index=False) # The final df with all the data\n",
        "#new_list2 = [item for sublist in new_list2 for item in sublist]  # Flatten the nested list\n"
      ],
      "metadata": {
        "id": "AXK0cRf1dYp7"
      },
      "execution_count": 33,
      "outputs": []
    },
    {
      "cell_type": "code",
      "source": [
        "combined_df"
      ],
      "metadata": {
        "colab": {
          "base_uri": "https://localhost:8080/",
          "height": 424
        },
        "id": "LUQG16nk7VTV",
        "outputId": "f655cfc9-10cc-4eef-fbd7-471409b90c74"
      },
      "execution_count": 34,
      "outputs": [
        {
          "output_type": "execute_result",
          "data": {
            "text/plain": [
              "        Timestamp  El1  El2  El3  El4  El5  El6  El7  El8\n",
              "0   1647185099821   26   22   23   22   33   40  227  118\n",
              "1   1647185099950   24   20   23   22   34   41  231  121\n",
              "2   1647185100080   24   20   21   23   34   35  177   92\n",
              "3   1647185100241   25   21   21   22   35   37  177   91\n",
              "4   1647185100390   30   25   23   20   28   39  191  100\n",
              "..            ...  ...  ...  ...  ...  ...  ...  ...  ...\n",
              "95  1648812705182   22   30   61  135  140   99   35   26\n",
              "96  1648812705188   24   31   63  137  149  104   37   28\n",
              "97  1648812705194   25   28   61  156  153  100   38   28\n",
              "98  1648812705200   27   35   59  155  150   94   36   28\n",
              "99  1648812705206   25   33   40  133  131   61   31   26\n",
              "\n",
              "[70000 rows x 9 columns]"
            ],
            "text/html": [
              "\n",
              "  <div id=\"df-9d013356-8c28-4bb0-b2b4-eae4e6c5c5e6\">\n",
              "    <div class=\"colab-df-container\">\n",
              "      <div>\n",
              "<style scoped>\n",
              "    .dataframe tbody tr th:only-of-type {\n",
              "        vertical-align: middle;\n",
              "    }\n",
              "\n",
              "    .dataframe tbody tr th {\n",
              "        vertical-align: top;\n",
              "    }\n",
              "\n",
              "    .dataframe thead th {\n",
              "        text-align: right;\n",
              "    }\n",
              "</style>\n",
              "<table border=\"1\" class=\"dataframe\">\n",
              "  <thead>\n",
              "    <tr style=\"text-align: right;\">\n",
              "      <th></th>\n",
              "      <th>Timestamp</th>\n",
              "      <th>El1</th>\n",
              "      <th>El2</th>\n",
              "      <th>El3</th>\n",
              "      <th>El4</th>\n",
              "      <th>El5</th>\n",
              "      <th>El6</th>\n",
              "      <th>El7</th>\n",
              "      <th>El8</th>\n",
              "    </tr>\n",
              "  </thead>\n",
              "  <tbody>\n",
              "    <tr>\n",
              "      <th>0</th>\n",
              "      <td>1647185099821</td>\n",
              "      <td>26</td>\n",
              "      <td>22</td>\n",
              "      <td>23</td>\n",
              "      <td>22</td>\n",
              "      <td>33</td>\n",
              "      <td>40</td>\n",
              "      <td>227</td>\n",
              "      <td>118</td>\n",
              "    </tr>\n",
              "    <tr>\n",
              "      <th>1</th>\n",
              "      <td>1647185099950</td>\n",
              "      <td>24</td>\n",
              "      <td>20</td>\n",
              "      <td>23</td>\n",
              "      <td>22</td>\n",
              "      <td>34</td>\n",
              "      <td>41</td>\n",
              "      <td>231</td>\n",
              "      <td>121</td>\n",
              "    </tr>\n",
              "    <tr>\n",
              "      <th>2</th>\n",
              "      <td>1647185100080</td>\n",
              "      <td>24</td>\n",
              "      <td>20</td>\n",
              "      <td>21</td>\n",
              "      <td>23</td>\n",
              "      <td>34</td>\n",
              "      <td>35</td>\n",
              "      <td>177</td>\n",
              "      <td>92</td>\n",
              "    </tr>\n",
              "    <tr>\n",
              "      <th>3</th>\n",
              "      <td>1647185100241</td>\n",
              "      <td>25</td>\n",
              "      <td>21</td>\n",
              "      <td>21</td>\n",
              "      <td>22</td>\n",
              "      <td>35</td>\n",
              "      <td>37</td>\n",
              "      <td>177</td>\n",
              "      <td>91</td>\n",
              "    </tr>\n",
              "    <tr>\n",
              "      <th>4</th>\n",
              "      <td>1647185100390</td>\n",
              "      <td>30</td>\n",
              "      <td>25</td>\n",
              "      <td>23</td>\n",
              "      <td>20</td>\n",
              "      <td>28</td>\n",
              "      <td>39</td>\n",
              "      <td>191</td>\n",
              "      <td>100</td>\n",
              "    </tr>\n",
              "    <tr>\n",
              "      <th>...</th>\n",
              "      <td>...</td>\n",
              "      <td>...</td>\n",
              "      <td>...</td>\n",
              "      <td>...</td>\n",
              "      <td>...</td>\n",
              "      <td>...</td>\n",
              "      <td>...</td>\n",
              "      <td>...</td>\n",
              "      <td>...</td>\n",
              "    </tr>\n",
              "    <tr>\n",
              "      <th>95</th>\n",
              "      <td>1648812705182</td>\n",
              "      <td>22</td>\n",
              "      <td>30</td>\n",
              "      <td>61</td>\n",
              "      <td>135</td>\n",
              "      <td>140</td>\n",
              "      <td>99</td>\n",
              "      <td>35</td>\n",
              "      <td>26</td>\n",
              "    </tr>\n",
              "    <tr>\n",
              "      <th>96</th>\n",
              "      <td>1648812705188</td>\n",
              "      <td>24</td>\n",
              "      <td>31</td>\n",
              "      <td>63</td>\n",
              "      <td>137</td>\n",
              "      <td>149</td>\n",
              "      <td>104</td>\n",
              "      <td>37</td>\n",
              "      <td>28</td>\n",
              "    </tr>\n",
              "    <tr>\n",
              "      <th>97</th>\n",
              "      <td>1648812705194</td>\n",
              "      <td>25</td>\n",
              "      <td>28</td>\n",
              "      <td>61</td>\n",
              "      <td>156</td>\n",
              "      <td>153</td>\n",
              "      <td>100</td>\n",
              "      <td>38</td>\n",
              "      <td>28</td>\n",
              "    </tr>\n",
              "    <tr>\n",
              "      <th>98</th>\n",
              "      <td>1648812705200</td>\n",
              "      <td>27</td>\n",
              "      <td>35</td>\n",
              "      <td>59</td>\n",
              "      <td>155</td>\n",
              "      <td>150</td>\n",
              "      <td>94</td>\n",
              "      <td>36</td>\n",
              "      <td>28</td>\n",
              "    </tr>\n",
              "    <tr>\n",
              "      <th>99</th>\n",
              "      <td>1648812705206</td>\n",
              "      <td>25</td>\n",
              "      <td>33</td>\n",
              "      <td>40</td>\n",
              "      <td>133</td>\n",
              "      <td>131</td>\n",
              "      <td>61</td>\n",
              "      <td>31</td>\n",
              "      <td>26</td>\n",
              "    </tr>\n",
              "  </tbody>\n",
              "</table>\n",
              "<p>70000 rows × 9 columns</p>\n",
              "</div>\n",
              "      <button class=\"colab-df-convert\" onclick=\"convertToInteractive('df-9d013356-8c28-4bb0-b2b4-eae4e6c5c5e6')\"\n",
              "              title=\"Convert this dataframe to an interactive table.\"\n",
              "              style=\"display:none;\">\n",
              "        \n",
              "  <svg xmlns=\"http://www.w3.org/2000/svg\" height=\"24px\"viewBox=\"0 0 24 24\"\n",
              "       width=\"24px\">\n",
              "    <path d=\"M0 0h24v24H0V0z\" fill=\"none\"/>\n",
              "    <path d=\"M18.56 5.44l.94 2.06.94-2.06 2.06-.94-2.06-.94-.94-2.06-.94 2.06-2.06.94zm-11 1L8.5 8.5l.94-2.06 2.06-.94-2.06-.94L8.5 2.5l-.94 2.06-2.06.94zm10 10l.94 2.06.94-2.06 2.06-.94-2.06-.94-.94-2.06-.94 2.06-2.06.94z\"/><path d=\"M17.41 7.96l-1.37-1.37c-.4-.4-.92-.59-1.43-.59-.52 0-1.04.2-1.43.59L10.3 9.45l-7.72 7.72c-.78.78-.78 2.05 0 2.83L4 21.41c.39.39.9.59 1.41.59.51 0 1.02-.2 1.41-.59l7.78-7.78 2.81-2.81c.8-.78.8-2.07 0-2.86zM5.41 20L4 18.59l7.72-7.72 1.47 1.35L5.41 20z\"/>\n",
              "  </svg>\n",
              "      </button>\n",
              "      \n",
              "  <style>\n",
              "    .colab-df-container {\n",
              "      display:flex;\n",
              "      flex-wrap:wrap;\n",
              "      gap: 12px;\n",
              "    }\n",
              "\n",
              "    .colab-df-convert {\n",
              "      background-color: #E8F0FE;\n",
              "      border: none;\n",
              "      border-radius: 50%;\n",
              "      cursor: pointer;\n",
              "      display: none;\n",
              "      fill: #1967D2;\n",
              "      height: 32px;\n",
              "      padding: 0 0 0 0;\n",
              "      width: 32px;\n",
              "    }\n",
              "\n",
              "    .colab-df-convert:hover {\n",
              "      background-color: #E2EBFA;\n",
              "      box-shadow: 0px 1px 2px rgba(60, 64, 67, 0.3), 0px 1px 3px 1px rgba(60, 64, 67, 0.15);\n",
              "      fill: #174EA6;\n",
              "    }\n",
              "\n",
              "    [theme=dark] .colab-df-convert {\n",
              "      background-color: #3B4455;\n",
              "      fill: #D2E3FC;\n",
              "    }\n",
              "\n",
              "    [theme=dark] .colab-df-convert:hover {\n",
              "      background-color: #434B5C;\n",
              "      box-shadow: 0px 1px 3px 1px rgba(0, 0, 0, 0.15);\n",
              "      filter: drop-shadow(0px 1px 2px rgba(0, 0, 0, 0.3));\n",
              "      fill: #FFFFFF;\n",
              "    }\n",
              "  </style>\n",
              "\n",
              "      <script>\n",
              "        const buttonEl =\n",
              "          document.querySelector('#df-9d013356-8c28-4bb0-b2b4-eae4e6c5c5e6 button.colab-df-convert');\n",
              "        buttonEl.style.display =\n",
              "          google.colab.kernel.accessAllowed ? 'block' : 'none';\n",
              "\n",
              "        async function convertToInteractive(key) {\n",
              "          const element = document.querySelector('#df-9d013356-8c28-4bb0-b2b4-eae4e6c5c5e6');\n",
              "          const dataTable =\n",
              "            await google.colab.kernel.invokeFunction('convertToInteractive',\n",
              "                                                     [key], {});\n",
              "          if (!dataTable) return;\n",
              "\n",
              "          const docLinkHtml = 'Like what you see? Visit the ' +\n",
              "            '<a target=\"_blank\" href=https://colab.research.google.com/notebooks/data_table.ipynb>data table notebook</a>'\n",
              "            + ' to learn more about interactive tables.';\n",
              "          element.innerHTML = '';\n",
              "          dataTable['output_type'] = 'display_data';\n",
              "          await google.colab.output.renderOutput(dataTable, element);\n",
              "          const docLink = document.createElement('div');\n",
              "          docLink.innerHTML = docLinkHtml;\n",
              "          element.appendChild(docLink);\n",
              "        }\n",
              "      </script>\n",
              "    </div>\n",
              "  </div>\n",
              "  "
            ]
          },
          "metadata": {},
          "execution_count": 34
        }
      ]
    },
    {
      "cell_type": "markdown",
      "source": [
        "## Encode the Target Variable\n",
        "\n",
        "Seems to be necessary for a CNN. Encoded all gestures below."
      ],
      "metadata": {
        "id": "01IfqYBS6ndK"
      }
    },
    {
      "cell_type": "code",
      "source": [
        "# Create an instance of LabelEncoder\n",
        "label_encoder = LabelEncoder()\n",
        "\n",
        "# Encode the target variable as integer labels\n",
        "integer_labels = label_encoder.fit_transform(gesture_list)\n",
        "\n",
        "# Create an instance of OneHotEncoder\n",
        "onehot_encoder = OneHotEncoder(sparse=False)\n",
        "\n",
        "# Reshape the integer labels to a 2D array\n",
        "integer_labels = integer_labels.reshape(-1, 1)\n",
        "\n",
        "# One-hot encode the integer labels\n",
        "onehot_encoded = onehot_encoder.fit_transform(integer_labels)\n",
        "\n",
        "onehot_encoded"
      ],
      "metadata": {
        "colab": {
          "base_uri": "https://localhost:8080/"
        },
        "id": "YhdR6CVjkDkr",
        "outputId": "bac9c979-53db-41fa-924e-a2daf8660c2a"
      },
      "execution_count": 35,
      "outputs": [
        {
          "output_type": "stream",
          "name": "stderr",
          "text": [
            "/usr/local/lib/python3.10/dist-packages/sklearn/preprocessing/_encoders.py:868: FutureWarning: `sparse` was renamed to `sparse_output` in version 1.2 and will be removed in 1.4. `sparse_output` is ignored unless you leave `sparse` to its default value.\n",
            "  warnings.warn(\n"
          ]
        },
        {
          "output_type": "execute_result",
          "data": {
            "text/plain": [
              "array([[1., 0., 0., 0., 0., 0.],\n",
              "       [0., 0., 0., 0., 1., 0.],\n",
              "       [1., 0., 0., 0., 0., 0.],\n",
              "       ...,\n",
              "       [0., 0., 0., 1., 0., 0.],\n",
              "       [0., 0., 1., 0., 0., 0.],\n",
              "       [0., 1., 0., 0., 0., 0.]])"
            ]
          },
          "metadata": {},
          "execution_count": 35
        }
      ]
    },
    {
      "cell_type": "code",
      "source": [
        "# Convert to Array\n",
        "gesture_list = np.array(onehot_encoded)\n"
      ],
      "metadata": {
        "id": "poBp3I0Gib-D"
      },
      "execution_count": 36,
      "outputs": []
    },
    {
      "cell_type": "code",
      "source": [
        "# Copy dataframe for good measure\n",
        "df = combined_df.copy()"
      ],
      "metadata": {
        "id": "AifZLzDndeVI"
      },
      "execution_count": 37,
      "outputs": []
    },
    {
      "cell_type": "markdown",
      "source": [
        "## Apply Continuous Wavelet Transform"
      ],
      "metadata": {
        "id": "J7fcGpLv7yiY"
      }
    },
    {
      "cell_type": "code",
      "source": [
        "# Define parameters\n",
        "scales = np.arange(1, 101)\n",
        "waveletname = \"morl\"\n",
        "num_rows = 100\n",
        "num_columns = 8\n",
        "\n",
        "\n",
        "# Extract the electrode readings columns\n",
        "data = df.iloc[:, 1:].values  # Exclude the timestamp column\n",
        "\n",
        "# Reshape the data into 3D array (number of samples, number of rows, number of columns)\n",
        "data = data.reshape(-1, num_rows, num_columns)\n",
        "\n",
        "# Apply continuous wavelet transform to each sample\n",
        "transformed_data = []\n",
        "\n",
        "for sample in data:\n",
        "    transformed_sample = []\n",
        "    for channel in sample.T:  # Transpose to loop over columns (channels)\n",
        "        coeff, _ = pywt.cwt(channel, scales, waveletname, 1)\n",
        "        transformed_sample.append(coeff)\n",
        "    transformed_data.append(np.array(transformed_sample))\n",
        "\n",
        "# Convert the transformed data into a numpy array\n",
        "transformed_data = np.array(transformed_data)"
      ],
      "metadata": {
        "id": "5xhvHZU-duZl"
      },
      "execution_count": 38,
      "outputs": []
    },
    {
      "cell_type": "code",
      "source": [
        "# Reshape data to the format below\n",
        "reshaped_data = transformed_data.transpose((0, 3, 2, 1))\n"
      ],
      "metadata": {
        "id": "wOtz6Klgdwec"
      },
      "execution_count": 39,
      "outputs": []
    },
    {
      "cell_type": "code",
      "source": [
        "# 700 files/signals\n",
        "# 100 rows from each file\n",
        "# 100 cofficients of each row\n",
        "# 8 channels representing the electrode readhings\n",
        "\n",
        "reshaped_data.shape"
      ],
      "metadata": {
        "colab": {
          "base_uri": "https://localhost:8080/"
        },
        "id": "C-dmr3L6eZSa",
        "outputId": "b08f58e7-065c-4d0e-e4af-612bd3043078"
      },
      "execution_count": 40,
      "outputs": [
        {
          "output_type": "execute_result",
          "data": {
            "text/plain": [
              "(700, 100, 100, 8)"
            ]
          },
          "metadata": {},
          "execution_count": 40
        }
      ]
    },
    {
      "cell_type": "markdown",
      "source": [
        "## Split Data"
      ],
      "metadata": {
        "id": "OwRFdDuU_cR-"
      }
    },
    {
      "cell_type": "code",
      "source": [
        "X_train, X_test, y_train, y_test = train_test_split(reshaped_data, gesture_list, test_size=0.2, random_state=42)\n"
      ],
      "metadata": {
        "id": "2Xm0gu-hdz2k"
      },
      "execution_count": 41,
      "outputs": []
    },
    {
      "cell_type": "markdown",
      "source": [
        "## A Rudimentary CNN"
      ],
      "metadata": {
        "id": "gy7sUIOm_e-t"
      }
    },
    {
      "cell_type": "code",
      "source": [
        "# Build the CNN model\n",
        "model = Sequential()\n",
        "model.add(Conv2D(16, (3, 3), activation='relu', input_shape=(100, 100, 8)))\n",
        "model.add(MaxPooling2D((2, 2)))\n",
        "model.add(Conv2D(32, (3, 3), activation='relu'))\n",
        "model.add(MaxPooling2D((2, 2)))\n",
        "model.add(Flatten())\n",
        "model.add(Dense(64, activation='relu'))\n",
        "model.add(Dense(6, activation='sigmoid'))\n",
        "\n",
        "# Compile the model\n",
        "model.compile(optimizer='adam', loss='binary_crossentropy', metrics=['accuracy'])\n",
        "\n"
      ],
      "metadata": {
        "id": "9-mFsXLfd1_8"
      },
      "execution_count": 42,
      "outputs": []
    },
    {
      "cell_type": "code",
      "source": [
        "# Summarize Model\n",
        "model.summary()\n"
      ],
      "metadata": {
        "colab": {
          "base_uri": "https://localhost:8080/"
        },
        "id": "jyLV_DCvh3lg",
        "outputId": "ddf13fb7-5a1a-4e39-be20-30e91112100f"
      },
      "execution_count": 58,
      "outputs": [
        {
          "output_type": "stream",
          "name": "stdout",
          "text": [
            "Model: \"sequential_2\"\n",
            "_________________________________________________________________\n",
            " Layer (type)                Output Shape              Param #   \n",
            "=================================================================\n",
            " conv2d_4 (Conv2D)           (None, 98, 98, 16)        1168      \n",
            "                                                                 \n",
            " max_pooling2d_4 (MaxPooling  (None, 49, 49, 16)       0         \n",
            " 2D)                                                             \n",
            "                                                                 \n",
            " conv2d_5 (Conv2D)           (None, 47, 47, 32)        4640      \n",
            "                                                                 \n",
            " max_pooling2d_5 (MaxPooling  (None, 23, 23, 32)       0         \n",
            " 2D)                                                             \n",
            "                                                                 \n",
            " flatten_2 (Flatten)         (None, 16928)             0         \n",
            "                                                                 \n",
            " dense_4 (Dense)             (None, 64)                1083456   \n",
            "                                                                 \n",
            " dense_5 (Dense)             (None, 6)                 390       \n",
            "                                                                 \n",
            "=================================================================\n",
            "Total params: 1,089,654\n",
            "Trainable params: 1,089,654\n",
            "Non-trainable params: 0\n",
            "_________________________________________________________________\n"
          ]
        }
      ]
    },
    {
      "cell_type": "code",
      "source": [
        "# Fit the Model\n",
        "model.fit(X_train, y_train, epochs=15, batch_size=32)"
      ],
      "metadata": {
        "colab": {
          "base_uri": "https://localhost:8080/"
        },
        "id": "MReVwZpmd5TV",
        "outputId": "ef7276bb-6781-4858-dcda-be32443d742e"
      },
      "execution_count": 45,
      "outputs": [
        {
          "output_type": "stream",
          "name": "stdout",
          "text": [
            "Epoch 1/15\n",
            "18/18 [==============================] - 5s 265ms/step - loss: 0.0261 - accuracy: 0.9875\n",
            "Epoch 2/15\n",
            "18/18 [==============================] - 7s 406ms/step - loss: 0.0230 - accuracy: 0.9893\n",
            "Epoch 3/15\n",
            "18/18 [==============================] - 5s 304ms/step - loss: 0.0224 - accuracy: 0.9875\n",
            "Epoch 4/15\n",
            "18/18 [==============================] - 7s 363ms/step - loss: 0.0241 - accuracy: 0.9893\n",
            "Epoch 5/15\n",
            "18/18 [==============================] - 7s 374ms/step - loss: 0.0260 - accuracy: 0.9893\n",
            "Epoch 6/15\n",
            "18/18 [==============================] - 5s 254ms/step - loss: 0.0187 - accuracy: 0.9929\n",
            "Epoch 7/15\n",
            "18/18 [==============================] - 7s 379ms/step - loss: 0.0172 - accuracy: 0.9946\n",
            "Epoch 8/15\n",
            "18/18 [==============================] - 5s 257ms/step - loss: 0.0152 - accuracy: 0.9964\n",
            "Epoch 9/15\n",
            "18/18 [==============================] - 5s 260ms/step - loss: 0.0139 - accuracy: 0.9964\n",
            "Epoch 10/15\n",
            "18/18 [==============================] - 7s 371ms/step - loss: 0.0145 - accuracy: 0.9964\n",
            "Epoch 11/15\n",
            "18/18 [==============================] - 5s 258ms/step - loss: 0.0121 - accuracy: 0.9964\n",
            "Epoch 12/15\n",
            "18/18 [==============================] - 5s 303ms/step - loss: 0.0099 - accuracy: 0.9982\n",
            "Epoch 13/15\n",
            "18/18 [==============================] - 6s 328ms/step - loss: 0.0083 - accuracy: 0.9982\n",
            "Epoch 14/15\n",
            "18/18 [==============================] - 5s 260ms/step - loss: 0.0076 - accuracy: 0.9982\n",
            "Epoch 15/15\n",
            "18/18 [==============================] - 6s 361ms/step - loss: 0.0069 - accuracy: 0.9982\n"
          ]
        },
        {
          "output_type": "execute_result",
          "data": {
            "text/plain": [
              "<keras.callbacks.History at 0x7f78cf24dd80>"
            ]
          },
          "metadata": {},
          "execution_count": 45
        }
      ]
    },
    {
      "cell_type": "code",
      "source": [
        "# Evaluate the model on the validation dataset\n",
        "val_loss, val_accuracy = model.evaluate(X_test, y_test)\n",
        "\n",
        "# Print the validation loss and accuracy\n",
        "print(\"Validation Loss:\", val_loss)\n",
        "print(\"Validation Accuracy:\", val_accuracy)"
      ],
      "metadata": {
        "colab": {
          "base_uri": "https://localhost:8080/"
        },
        "id": "IhZJreUMd_Zm",
        "outputId": "9fca3271-508c-48f5-9abb-23bc2c3e113f"
      },
      "execution_count": 46,
      "outputs": [
        {
          "output_type": "stream",
          "name": "stdout",
          "text": [
            "5/5 [==============================] - 1s 68ms/step - loss: 0.7705 - accuracy: 0.7286\n",
            "Validation Loss: 0.7705090045928955\n",
            "Validation Accuracy: 0.7285714149475098\n"
          ]
        }
      ]
    },
    {
      "cell_type": "code",
      "source": [
        "# Calculate accuracy\n",
        "accuracy = accuracy_score(np.argmax(y_test, axis=1), y_pred_labels)\n",
        "accuracy"
      ],
      "metadata": {
        "colab": {
          "base_uri": "https://localhost:8080/"
        },
        "id": "GGlNEQe0-ary",
        "outputId": "4d094fde-5233-4eb6-d7c5-78757facc317"
      },
      "execution_count": 57,
      "outputs": [
        {
          "output_type": "execute_result",
          "data": {
            "text/plain": [
              "0.7285714285714285"
            ]
          },
          "metadata": {},
          "execution_count": 57
        }
      ]
    },
    {
      "cell_type": "code",
      "source": [
        "y_pred_probs = model.predict(X_test)\n",
        "y_pred_labels = np.argmax(y_pred_probs, axis=1)  # Convert probabilities to class labels\n",
        "\n",
        "# Compute confusion matrix\n",
        "conf_matrix = confusion_matrix(np.argmax(y_test, axis=1), y_pred_labels)\n",
        "\n",
        "plt.figure(figsize=(10, 8))\n",
        "sns.heatmap(conf_matrix, annot=True, fmt='d', cmap='Blues')\n",
        "plt.xlabel('Predicted Labels')\n",
        "plt.ylabel('True Labels')\n",
        "plt.title('Confusion Matrix')\n",
        "plt.show()"
      ],
      "metadata": {
        "colab": {
          "base_uri": "https://localhost:8080/",
          "height": 718
        },
        "id": "eFC3Rh3m9jgv",
        "outputId": "103ba589-a1b9-4f69-d1c0-81dd0df6fde4"
      },
      "execution_count": 52,
      "outputs": [
        {
          "output_type": "display_data",
          "data": {
            "text/plain": [
              "<Figure size 1000x800 with 2 Axes>"
            ],
            "image/png": "[encoded data removed]"
          },
          "metadata": {}
        }
      ]
    },
    {
      "cell_type": "code",
      "source": [],
      "metadata": {
        "id": "okFPJqyn-nID"
      },
      "execution_count": null,
      "outputs": []
    }
  ]
}