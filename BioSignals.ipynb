{
  "nbformat": 4,
  "nbformat_minor": 0,
  "metadata": {
    "colab": {
      "provenance": []
    },
    "kernelspec": {
      "name": "python3",
      "display_name": "Python 3"
    },
    "language_info": {
      "name": "python"
    }
  },
  "cells": [
    {
      "cell_type": "markdown",
      "source": [
        "## Import Packages"
      ],
      "metadata": {
        "id": "JN6cg1D94oBJ"
      }
    },
    {
      "cell_type": "code",
      "source": [
        "from google.colab import drive\n",
        "drive.mount('/content/drive')"
      ],
      "metadata": {
        "colab": {
          "base_uri": "https://localhost:8080/"
        },
        "id": "EDMOvTtGLWcl",
        "outputId": "4b340d0b-3a3c-40de-b3de-011cac1896fe"
      },
      "execution_count": null,
      "outputs": [
        {
          "output_type": "stream",
          "name": "stdout",
          "text": [
            "Drive already mounted at /content/drive; to attempt to forcibly remount, call drive.mount(\"/content/drive\", force_remount=True).\n"
          ]
        }
      ]
    },
    {
      "cell_type": "code",
      "source": [
        "# Analyzing, cleaning, exploring data\n",
        "import pandas as pd\n",
        "from pandas import DataFrame\n",
        "import re\n",
        "import glob\n",
        "\n",
        "# Performing math operations on arrays and other structures.\n",
        "import numpy as np\n",
        "\n",
        "# Visualizing data\n",
        "import matplotlib.pyplot as plt\n",
        "import seaborn as sns\n",
        "\n",
        "from sklearn.preprocessing import LabelEncoder\n",
        "\n",
        "import pywt\n",
        "\n",
        "from sklearn.preprocessing import LabelEncoder, OneHotEncoder\n",
        "\n",
        "\n",
        "from sklearn.model_selection import train_test_split\n",
        "\n",
        "from tensorflow.keras.models import Sequential\n",
        "from tensorflow.keras.layers import Conv2D, MaxPooling2D, Flatten, Dense\n",
        "from tensorflow.keras.layers import Dropout\n",
        "from keras.models import load_model\n",
        "\n",
        "\n",
        "from sklearn.metrics import accuracy_score\n",
        "from sklearn.metrics import confusion_matrix\n",
        "\n"
      ],
      "metadata": {
        "id": "mrjhWVNkcyFg"
      },
      "execution_count": null,
      "outputs": []
    },
    {
      "cell_type": "markdown",
      "source": [
        "## Import and Process Data\n",
        "\n",
        "In the cell below we import 700 files, assign columns, extract names and numbers from the file names and build a combined dataframe."
      ],
      "metadata": {
        "id": "uGHRW0sY4uAD"
      }
    },
    {
      "cell_type": "code",
      "source": [
        "# Initialize Lists\n",
        "truncated_data = []\n",
        "new_list2 = []\n",
        "dataframes = []\n",
        "total_num_rows = 0\n",
        "extracted_strings = []\n",
        "gesture_list = []\n",
        "\n",
        "# Specify the folder path where the CSV files are located\n",
        "folder_path = \"/content/drive/MyDrive/EMGforMSc_lateral/\"\n",
        "\n",
        "# Column Names\n",
        "columns = ['Timestamp', 'El1', 'El2', 'El3','El4', 'El5', 'El6','El7', 'El8']\n",
        "\n",
        "\n",
        "# Get a list of all CSV files in the folder\n",
        "file_list = glob.glob(folder_path + \"*.csv\")\n",
        "\n",
        "for file in file_list:\n",
        "    df = pd.read_csv(file, names=columns)\n",
        "\n",
        "    # Truncate the DataFrames to 100 rows\n",
        "    truncated_df = df[:150]\n",
        "\n",
        "    # Add the truncated DataFrame to the list\n",
        "    truncated_data.append(truncated_df)\n",
        "    #num_rows = 200\n",
        "\n",
        "    file_name = file.split(\"/\")[-1]  # Extract the file name from the file path\n",
        "    gesture = re.search(r'-(.*?)-', file_name).group(1)  # Extract the desired string using regex\n",
        "\n",
        "    # Get a list for the target variable\n",
        "    gesture_list.extend([gesture])\n",
        "\n",
        "    # Get a list in case we need to add a column to the df\n",
        "    #extracted_strings.extend([gesture] * num_rows)\n",
        "\n",
        "    # Get the Patient ID\n",
        "    extracted_numbers = re.findall(r'\\d+', file)[0]\n",
        "\n",
        "\n",
        "    #new_list = [extracted_numbers] * num_rows\n",
        "    #new_list2.append(new_list)\n",
        "    #dataframes.append(df)\n",
        "\n",
        "    #total_num_rows += num_rows\n",
        "    #filtered_dataframes = [truncated_data for truncated_data in dataframes if len(truncated_data) <= 200]\n",
        "\n",
        "\n",
        "\n",
        "\n",
        "combined_df = pd.concat(truncated_data, ignore_index=False) # The final df with all the data\n",
        "#new_list2 = [item for sublist in new_list2 for item in sublist]  # Flatten the nested list\n"
      ],
      "metadata": {
        "id": "AXK0cRf1dYp7"
      },
      "execution_count": null,
      "outputs": []
    },
    {
      "cell_type": "code",
      "source": [],
      "metadata": {
        "id": "QKiUsm7MiKzS"
      },
      "execution_count": null,
      "outputs": []
    },
    {
      "cell_type": "code",
      "source": [
        "combined_df"
      ],
      "metadata": {
        "colab": {
          "base_uri": "https://localhost:8080/",
          "height": 424
        },
        "id": "LUQG16nk7VTV",
        "outputId": "0821be84-9c7d-4307-ead5-d9daede8267d"
      },
      "execution_count": null,
      "outputs": [
        {
          "output_type": "execute_result",
          "data": {
            "text/plain": [
              "         Timestamp  El1  El2  El3  El4  El5  El6  El7  El8\n",
              "0    1644424821135  240  196  257  774  585  181   98  145\n",
              "1    1644424821274  253  195  256  804  540  157   92  158\n",
              "2    1644424821410  254  193  240  756  477  117   69  177\n",
              "3    1644424821537  268  239  275  762  487  119   73  186\n",
              "4    1644424821797  255  202  259  742  432  119   76  270\n",
              "..             ...  ...  ...  ...  ...  ...  ...  ...  ...\n",
              "145  1643730615430   21   16   23   22   56  104  115   28\n",
              "146  1643730615436   22   18   24   26   64  105  121   30\n",
              "147  1643730615442   20   19   22   25   54  103  121   27\n",
              "148  1643730615448   20   19   25   25   52   97  121   26\n",
              "149  1643730615454   20   20   24   25   60   93  114   28\n",
              "\n",
              "[88350 rows x 9 columns]"
            ],
            "text/html": [
              "\n",
              "  <div id=\"df-f7343431-9500-4db7-a646-23deedce7ebc\" class=\"colab-df-container\">\n",
              "    <div>\n",
              "<style scoped>\n",
              "    .dataframe tbody tr th:only-of-type {\n",
              "        vertical-align: middle;\n",
              "    }\n",
              "\n",
              "    .dataframe tbody tr th {\n",
              "        vertical-align: top;\n",
              "    }\n",
              "\n",
              "    .dataframe thead th {\n",
              "        text-align: right;\n",
              "    }\n",
              "</style>\n",
              "<table border=\"1\" class=\"dataframe\">\n",
              "  <thead>\n",
              "    <tr style=\"text-align: right;\">\n",
              "      <th></th>\n",
              "      <th>Timestamp</th>\n",
              "      <th>El1</th>\n",
              "      <th>El2</th>\n",
              "      <th>El3</th>\n",
              "      <th>El4</th>\n",
              "      <th>El5</th>\n",
              "      <th>El6</th>\n",
              "      <th>El7</th>\n",
              "      <th>El8</th>\n",
              "    </tr>\n",
              "  </thead>\n",
              "  <tbody>\n",
              "    <tr>\n",
              "      <th>0</th>\n",
              "      <td>1644424821135</td>\n",
              "      <td>240</td>\n",
              "      <td>196</td>\n",
              "      <td>257</td>\n",
              "      <td>774</td>\n",
              "      <td>585</td>\n",
              "      <td>181</td>\n",
              "      <td>98</td>\n",
              "      <td>145</td>\n",
              "    </tr>\n",
              "    <tr>\n",
              "      <th>1</th>\n",
              "      <td>1644424821274</td>\n",
              "      <td>253</td>\n",
              "      <td>195</td>\n",
              "      <td>256</td>\n",
              "      <td>804</td>\n",
              "      <td>540</td>\n",
              "      <td>157</td>\n",
              "      <td>92</td>\n",
              "      <td>158</td>\n",
              "    </tr>\n",
              "    <tr>\n",
              "      <th>2</th>\n",
              "      <td>1644424821410</td>\n",
              "      <td>254</td>\n",
              "      <td>193</td>\n",
              "      <td>240</td>\n",
              "      <td>756</td>\n",
              "      <td>477</td>\n",
              "      <td>117</td>\n",
              "      <td>69</td>\n",
              "      <td>177</td>\n",
              "    </tr>\n",
              "    <tr>\n",
              "      <th>3</th>\n",
              "      <td>1644424821537</td>\n",
              "      <td>268</td>\n",
              "      <td>239</td>\n",
              "      <td>275</td>\n",
              "      <td>762</td>\n",
              "      <td>487</td>\n",
              "      <td>119</td>\n",
              "      <td>73</td>\n",
              "      <td>186</td>\n",
              "    </tr>\n",
              "    <tr>\n",
              "      <th>4</th>\n",
              "      <td>1644424821797</td>\n",
              "      <td>255</td>\n",
              "      <td>202</td>\n",
              "      <td>259</td>\n",
              "      <td>742</td>\n",
              "      <td>432</td>\n",
              "      <td>119</td>\n",
              "      <td>76</td>\n",
              "      <td>270</td>\n",
              "    </tr>\n",
              "    <tr>\n",
              "      <th>...</th>\n",
              "      <td>...</td>\n",
              "      <td>...</td>\n",
              "      <td>...</td>\n",
              "      <td>...</td>\n",
              "      <td>...</td>\n",
              "      <td>...</td>\n",
              "      <td>...</td>\n",
              "      <td>...</td>\n",
              "      <td>...</td>\n",
              "    </tr>\n",
              "    <tr>\n",
              "      <th>145</th>\n",
              "      <td>1643730615430</td>\n",
              "      <td>21</td>\n",
              "      <td>16</td>\n",
              "      <td>23</td>\n",
              "      <td>22</td>\n",
              "      <td>56</td>\n",
              "      <td>104</td>\n",
              "      <td>115</td>\n",
              "      <td>28</td>\n",
              "    </tr>\n",
              "    <tr>\n",
              "      <th>146</th>\n",
              "      <td>1643730615436</td>\n",
              "      <td>22</td>\n",
              "      <td>18</td>\n",
              "      <td>24</td>\n",
              "      <td>26</td>\n",
              "      <td>64</td>\n",
              "      <td>105</td>\n",
              "      <td>121</td>\n",
              "      <td>30</td>\n",
              "    </tr>\n",
              "    <tr>\n",
              "      <th>147</th>\n",
              "      <td>1643730615442</td>\n",
              "      <td>20</td>\n",
              "      <td>19</td>\n",
              "      <td>22</td>\n",
              "      <td>25</td>\n",
              "      <td>54</td>\n",
              "      <td>103</td>\n",
              "      <td>121</td>\n",
              "      <td>27</td>\n",
              "    </tr>\n",
              "    <tr>\n",
              "      <th>148</th>\n",
              "      <td>1643730615448</td>\n",
              "      <td>20</td>\n",
              "      <td>19</td>\n",
              "      <td>25</td>\n",
              "      <td>25</td>\n",
              "      <td>52</td>\n",
              "      <td>97</td>\n",
              "      <td>121</td>\n",
              "      <td>26</td>\n",
              "    </tr>\n",
              "    <tr>\n",
              "      <th>149</th>\n",
              "      <td>1643730615454</td>\n",
              "      <td>20</td>\n",
              "      <td>20</td>\n",
              "      <td>24</td>\n",
              "      <td>25</td>\n",
              "      <td>60</td>\n",
              "      <td>93</td>\n",
              "      <td>114</td>\n",
              "      <td>28</td>\n",
              "    </tr>\n",
              "  </tbody>\n",
              "</table>\n",
              "<p>88350 rows × 9 columns</p>\n",
              "</div>\n",
              "    <div class=\"colab-df-buttons\">\n",
              "\n",
              "  <div class=\"colab-df-container\">\n",
              "    <button class=\"colab-df-convert\" onclick=\"convertToInteractive('df-f7343431-9500-4db7-a646-23deedce7ebc')\"\n",
              "            title=\"Convert this dataframe to an interactive table.\"\n",
              "            style=\"display:none;\">\n",
              "\n",
              "  <svg xmlns=\"http://www.w3.org/2000/svg\" height=\"24px\" viewBox=\"0 -960 960 960\">\n",
              "    <path d=\"M120-120v-720h720v720H120Zm60-500h600v-160H180v160Zm220 220h160v-160H400v160Zm0 220h160v-160H400v160ZM180-400h160v-160H180v160Zm440 0h160v-160H620v160ZM180-180h160v-160H180v160Zm440 0h160v-160H620v160Z\"/>\n",
              "  </svg>\n",
              "    </button>\n",
              "\n",
              "  <style>\n",
              "    .colab-df-container {\n",
              "      display:flex;\n",
              "      gap: 12px;\n",
              "    }\n",
              "\n",
              "    .colab-df-convert {\n",
              "      background-color: #E8F0FE;\n",
              "      border: none;\n",
              "      border-radius: 50%;\n",
              "      cursor: pointer;\n",
              "      display: none;\n",
              "      fill: #1967D2;\n",
              "      height: 32px;\n",
              "      padding: 0 0 0 0;\n",
              "      width: 32px;\n",
              "    }\n",
              "\n",
              "    .colab-df-convert:hover {\n",
              "      background-color: #E2EBFA;\n",
              "      box-shadow: 0px 1px 2px rgba(60, 64, 67, 0.3), 0px 1px 3px 1px rgba(60, 64, 67, 0.15);\n",
              "      fill: #174EA6;\n",
              "    }\n",
              "\n",
              "    .colab-df-buttons div {\n",
              "      margin-bottom: 4px;\n",
              "    }\n",
              "\n",
              "    [theme=dark] .colab-df-convert {\n",
              "      background-color: #3B4455;\n",
              "      fill: #D2E3FC;\n",
              "    }\n",
              "\n",
              "    [theme=dark] .colab-df-convert:hover {\n",
              "      background-color: #434B5C;\n",
              "      box-shadow: 0px 1px 3px 1px rgba(0, 0, 0, 0.15);\n",
              "      filter: drop-shadow(0px 1px 2px rgba(0, 0, 0, 0.3));\n",
              "      fill: #FFFFFF;\n",
              "    }\n",
              "  </style>\n",
              "\n",
              "    <script>\n",
              "      const buttonEl =\n",
              "        document.querySelector('#df-f7343431-9500-4db7-a646-23deedce7ebc button.colab-df-convert');\n",
              "      buttonEl.style.display =\n",
              "        google.colab.kernel.accessAllowed ? 'block' : 'none';\n",
              "\n",
              "      async function convertToInteractive(key) {\n",
              "        const element = document.querySelector('#df-f7343431-9500-4db7-a646-23deedce7ebc');\n",
              "        const dataTable =\n",
              "          await google.colab.kernel.invokeFunction('convertToInteractive',\n",
              "                                                    [key], {});\n",
              "        if (!dataTable) return;\n",
              "\n",
              "        const docLinkHtml = 'Like what you see? Visit the ' +\n",
              "          '<a target=\"_blank\" href=https://colab.research.google.com/notebooks/data_table.ipynb>data table notebook</a>'\n",
              "          + ' to learn more about interactive tables.';\n",
              "        element.innerHTML = '';\n",
              "        dataTable['output_type'] = 'display_data';\n",
              "        await google.colab.output.renderOutput(dataTable, element);\n",
              "        const docLink = document.createElement('div');\n",
              "        docLink.innerHTML = docLinkHtml;\n",
              "        element.appendChild(docLink);\n",
              "      }\n",
              "    </script>\n",
              "  </div>\n",
              "\n",
              "\n",
              "<div id=\"df-ee1846b3-21c1-4514-bfe5-404819996327\">\n",
              "  <button class=\"colab-df-quickchart\" onclick=\"quickchart('df-ee1846b3-21c1-4514-bfe5-404819996327')\"\n",
              "            title=\"Suggest charts.\"\n",
              "            style=\"display:none;\">\n",
              "\n",
              "<svg xmlns=\"http://www.w3.org/2000/svg\" height=\"24px\"viewBox=\"0 0 24 24\"\n",
              "     width=\"24px\">\n",
              "    <g>\n",
              "        <path d=\"M19 3H5c-1.1 0-2 .9-2 2v14c0 1.1.9 2 2 2h14c1.1 0 2-.9 2-2V5c0-1.1-.9-2-2-2zM9 17H7v-7h2v7zm4 0h-2V7h2v10zm4 0h-2v-4h2v4z\"/>\n",
              "    </g>\n",
              "</svg>\n",
              "  </button>\n",
              "\n",
              "<style>\n",
              "  .colab-df-quickchart {\n",
              "    background-color: #E8F0FE;\n",
              "    border: none;\n",
              "    border-radius: 50%;\n",
              "    cursor: pointer;\n",
              "    display: none;\n",
              "    fill: #1967D2;\n",
              "    height: 32px;\n",
              "    padding: 0 0 0 0;\n",
              "    width: 32px;\n",
              "  }\n",
              "\n",
              "  .colab-df-quickchart:hover {\n",
              "    background-color: #E2EBFA;\n",
              "    box-shadow: 0px 1px 2px rgba(60, 64, 67, 0.3), 0px 1px 3px 1px rgba(60, 64, 67, 0.15);\n",
              "    fill: #174EA6;\n",
              "  }\n",
              "\n",
              "  [theme=dark] .colab-df-quickchart {\n",
              "    background-color: #3B4455;\n",
              "    fill: #D2E3FC;\n",
              "  }\n",
              "\n",
              "  [theme=dark] .colab-df-quickchart:hover {\n",
              "    background-color: #434B5C;\n",
              "    box-shadow: 0px 1px 3px 1px rgba(0, 0, 0, 0.15);\n",
              "    filter: drop-shadow(0px 1px 2px rgba(0, 0, 0, 0.3));\n",
              "    fill: #FFFFFF;\n",
              "  }\n",
              "</style>\n",
              "\n",
              "  <script>\n",
              "    async function quickchart(key) {\n",
              "      const charts = await google.colab.kernel.invokeFunction(\n",
              "          'suggestCharts', [key], {});\n",
              "    }\n",
              "    (() => {\n",
              "      let quickchartButtonEl =\n",
              "        document.querySelector('#df-ee1846b3-21c1-4514-bfe5-404819996327 button');\n",
              "      quickchartButtonEl.style.display =\n",
              "        google.colab.kernel.accessAllowed ? 'block' : 'none';\n",
              "    })();\n",
              "  </script>\n",
              "</div>\n",
              "    </div>\n",
              "  </div>\n"
            ]
          },
          "metadata": {},
          "execution_count": 46
        }
      ]
    },
    {
      "cell_type": "code",
      "source": [
        "labels = ['open', 'close',  'tripod','grasp','neutral']\n",
        "\n",
        "# Initialize the LabelEncoder\n",
        "label_encoder = LabelEncoder()\n",
        "\n",
        "# Fit and transform the labels\n",
        "encoded_labels = label_encoder.fit_transform(labels)\n",
        "\n",
        "# Print the encoded labels and their corresponding original labels\n",
        "label_mapping = dict(zip(encoded_labels, labels))\n",
        "for encoded_label, original_label in label_mapping.items():\n",
        "    print(f\"Encoded Label: {encoded_label} - Original Label: {original_label}\")"
      ],
      "metadata": {
        "colab": {
          "base_uri": "https://localhost:8080/"
        },
        "id": "XNqjF1W6nqdn",
        "outputId": "42945032-fd02-44a4-d934-708937256744"
      },
      "execution_count": null,
      "outputs": [
        {
          "output_type": "stream",
          "name": "stdout",
          "text": [
            "Encoded Label: 3 - Original Label: open\n",
            "Encoded Label: 0 - Original Label: close\n",
            "Encoded Label: 4 - Original Label: tripod\n",
            "Encoded Label: 1 - Original Label: grasp\n",
            "Encoded Label: 2 - Original Label: neutral\n"
          ]
        }
      ]
    },
    {
      "cell_type": "markdown",
      "source": [
        "## Encode the Target Variable\n",
        "\n",
        "Seems to be necessary for a CNN. Encoded all gestures below."
      ],
      "metadata": {
        "id": "01IfqYBS6ndK"
      }
    },
    {
      "cell_type": "code",
      "source": [
        "# Create an instance of LabelEncoder\n",
        "label_encoder = LabelEncoder()\n",
        "\n",
        "# Encode the target variable as integer labels\n",
        "integer_labels = label_encoder.fit_transform(gesture_list)\n",
        "\n",
        "# Create an instance of OneHotEncoder\n",
        "onehot_encoder = OneHotEncoder(sparse=False)\n",
        "\n",
        "# Reshape the integer labels to a 2D array\n",
        "integer_labels = integer_labels.reshape(-1, 1)\n",
        "\n",
        "# One-hot encode the integer labels\n",
        "onehot_encoded = onehot_encoder.fit_transform(integer_labels)\n",
        "\n",
        "onehot_encoded"
      ],
      "metadata": {
        "colab": {
          "base_uri": "https://localhost:8080/"
        },
        "id": "YhdR6CVjkDkr",
        "outputId": "515d7237-7b22-43d1-c3d4-b9675b1ffafe"
      },
      "execution_count": null,
      "outputs": [
        {
          "output_type": "stream",
          "name": "stderr",
          "text": [
            "/usr/local/lib/python3.10/dist-packages/sklearn/preprocessing/_encoders.py:868: FutureWarning: `sparse` was renamed to `sparse_output` in version 1.2 and will be removed in 1.4. `sparse_output` is ignored unless you leave `sparse` to its default value.\n",
            "  warnings.warn(\n"
          ]
        },
        {
          "output_type": "execute_result",
          "data": {
            "text/plain": [
              "array([[0., 0., 0., 1., 0.],\n",
              "       [0., 0., 0., 0., 1.],\n",
              "       [0., 0., 1., 0., 0.],\n",
              "       ...,\n",
              "       [0., 0., 0., 0., 1.],\n",
              "       [0., 0., 1., 0., 0.],\n",
              "       [0., 0., 1., 0., 0.]])"
            ]
          },
          "metadata": {},
          "execution_count": 48
        }
      ]
    },
    {
      "cell_type": "code",
      "source": [
        "# Convert to Array\n",
        "gesture_list = np.array(onehot_encoded)\n"
      ],
      "metadata": {
        "id": "poBp3I0Gib-D"
      },
      "execution_count": null,
      "outputs": []
    },
    {
      "cell_type": "code",
      "source": [
        "# Copy dataframe for good measure\n",
        "df = combined_df.copy()"
      ],
      "metadata": {
        "id": "AifZLzDndeVI"
      },
      "execution_count": null,
      "outputs": []
    },
    {
      "cell_type": "markdown",
      "source": [
        "## Apply Continuous Wavelet Transform"
      ],
      "metadata": {
        "id": "J7fcGpLv7yiY"
      }
    },
    {
      "cell_type": "code",
      "source": [
        "# Define parameters\n",
        "scales = np.arange(1, 151)\n",
        "waveletname = \"morl\"\n",
        "num_rows = 150\n",
        "num_columns = 8\n",
        "\n",
        "\n",
        "# Extract the electrode readings columns\n",
        "data = df.iloc[:, 1:].values  # Exclude the timestamp column\n",
        "\n",
        "# Reshape the data into 3D array (number of samples, number of rows, number of columns)\n",
        "data = data.reshape(-1, num_rows, num_columns)\n",
        "\n",
        "# Apply continuous wavelet transform to each sample\n",
        "transformed_data = []\n",
        "\n",
        "for sample in data:\n",
        "    transformed_sample = []\n",
        "    for channel in sample.T:  # Transpose to loop over columns (channels)\n",
        "        coeff, _ = pywt.cwt(channel, scales, waveletname, 1)\n",
        "        transformed_sample.append(coeff)\n",
        "    transformed_data.append(np.array(transformed_sample))\n",
        "\n",
        "# Convert the transformed data into a numpy array\n",
        "transformed_data = np.array(transformed_data)"
      ],
      "metadata": {
        "id": "5xhvHZU-duZl"
      },
      "execution_count": null,
      "outputs": []
    },
    {
      "cell_type": "code",
      "source": [
        "transformed_data.shape"
      ],
      "metadata": {
        "colab": {
          "base_uri": "https://localhost:8080/"
        },
        "id": "8VdkxkGON4rM",
        "outputId": "0826055e-731e-4048-bb1f-34979de5dde2"
      },
      "execution_count": null,
      "outputs": [
        {
          "output_type": "execute_result",
          "data": {
            "text/plain": [
              "(589, 8, 150, 150)"
            ]
          },
          "metadata": {},
          "execution_count": 52
        }
      ]
    },
    {
      "cell_type": "code",
      "source": [
        "# Reshape data to the format below\n",
        "reshaped_data = transformed_data.transpose((0, 3, 2, 1))\n"
      ],
      "metadata": {
        "id": "wOtz6Klgdwec"
      },
      "execution_count": null,
      "outputs": []
    },
    {
      "cell_type": "code",
      "source": [
        "# 700 files/signals\n",
        "# 100 rows from each file\n",
        "# 100 coefficients of each row\n",
        "# 8 channels representing the electrode readings\n",
        "\n",
        "reshaped_data.shape"
      ],
      "metadata": {
        "colab": {
          "base_uri": "https://localhost:8080/"
        },
        "id": "C-dmr3L6eZSa",
        "outputId": "7f46cfd4-a118-4e5c-8e32-61f6ff4e1c46"
      },
      "execution_count": null,
      "outputs": [
        {
          "output_type": "execute_result",
          "data": {
            "text/plain": [
              "(589, 150, 150, 8)"
            ]
          },
          "metadata": {},
          "execution_count": 54
        }
      ]
    },
    {
      "cell_type": "markdown",
      "source": [
        "## Split Data"
      ],
      "metadata": {
        "id": "OwRFdDuU_cR-"
      }
    },
    {
      "cell_type": "code",
      "source": [
        "X_train, X_test, y_train, y_test = train_test_split(reshaped_data, gesture_list, test_size=0.2, random_state=42)\n"
      ],
      "metadata": {
        "id": "2Xm0gu-hdz2k"
      },
      "execution_count": null,
      "outputs": []
    },
    {
      "cell_type": "markdown",
      "source": [
        "## A Rudimentary CNN"
      ],
      "metadata": {
        "id": "gy7sUIOm_e-t"
      }
    },
    {
      "cell_type": "code",
      "source": [
        "from tensorflow import keras\n",
        "from tensorflow.keras import layers\n",
        "\n",
        "\n",
        "# Build the CNN model\n",
        "model = Sequential()\n",
        "model.add(Conv2D(16, (3, 3), activation='relu', input_shape=(150, 150, 8)))\n",
        "model.add(MaxPooling2D((2, 2)))\n",
        "model.add(Dropout(0.2))\n",
        "\n",
        "model.add(Conv2D(32, (3, 3), activation='relu'))\n",
        "model.add(MaxPooling2D((2, 2)))\n",
        "\n",
        "model.add(Dropout(0.2))\n",
        "model.add(Conv2D(64, (3, 3), activation='relu'))\n",
        "model.add(MaxPooling2D((2, 2)))\n",
        "\n",
        "model.add(Dropout(0.3))\n",
        "model.add(Conv2D(128, (3, 3), activation='relu'))\n",
        "\n",
        "model.add(Flatten())\n",
        "model.add(Dense(64, activation='relu'))\n",
        "model.add(Dense(5, activation='softmax'))\n",
        "\n",
        "# Compile the model\n",
        "#opt = keras.optimizers.Adam(learning_rate=0.1)\n",
        "model.compile(optimizer=\"adam\", loss='categorical_crossentropy', metrics=['categorical_accuracy'])\n",
        "\n",
        "# Summarize Model\n",
        "model.summary()\n"
      ],
      "metadata": {
        "id": "9-mFsXLfd1_8",
        "colab": {
          "base_uri": "https://localhost:8080/"
        },
        "outputId": "07c4b22c-838d-4da2-d9e3-cc573f3da30f"
      },
      "execution_count": null,
      "outputs": [
        {
          "output_type": "stream",
          "name": "stdout",
          "text": [
            "Model: \"sequential_2\"\n",
            "_________________________________________________________________\n",
            " Layer (type)                Output Shape              Param #   \n",
            "=================================================================\n",
            " conv2d_8 (Conv2D)           (None, 148, 148, 16)      1168      \n",
            "                                                                 \n",
            " max_pooling2d_6 (MaxPooling  (None, 74, 74, 16)       0         \n",
            " 2D)                                                             \n",
            "                                                                 \n",
            " dropout_6 (Dropout)         (None, 74, 74, 16)        0         \n",
            "                                                                 \n",
            " conv2d_9 (Conv2D)           (None, 72, 72, 32)        4640      \n",
            "                                                                 \n",
            " max_pooling2d_7 (MaxPooling  (None, 36, 36, 32)       0         \n",
            " 2D)                                                             \n",
            "                                                                 \n",
            " dropout_7 (Dropout)         (None, 36, 36, 32)        0         \n",
            "                                                                 \n",
            " conv2d_10 (Conv2D)          (None, 34, 34, 64)        18496     \n",
            "                                                                 \n",
            " max_pooling2d_8 (MaxPooling  (None, 17, 17, 64)       0         \n",
            " 2D)                                                             \n",
            "                                                                 \n",
            " dropout_8 (Dropout)         (None, 17, 17, 64)        0         \n",
            "                                                                 \n",
            " conv2d_11 (Conv2D)          (None, 15, 15, 128)       73856     \n",
            "                                                                 \n",
            " flatten_2 (Flatten)         (None, 28800)             0         \n",
            "                                                                 \n",
            " dense_4 (Dense)             (None, 64)                1843264   \n",
            "                                                                 \n",
            " dense_5 (Dense)             (None, 5)                 325       \n",
            "                                                                 \n",
            "=================================================================\n",
            "Total params: 1,941,749\n",
            "Trainable params: 1,941,749\n",
            "Non-trainable params: 0\n",
            "_________________________________________________________________\n"
          ]
        }
      ]
    },
    {
      "cell_type": "code",
      "source": [
        "# Fit the Model\n",
        "from tensorflow.keras.callbacks import ModelCheckpoint, EarlyStopping\n",
        "\n",
        "checkpoint_filepath = '/content/drive/MyDrive/Biosginal_models/best_model.h5'\n",
        "\n",
        "\n",
        "checkpoint = ModelCheckpoint(checkpoint_filepath, monitor='val_categorical_accuracy', save_best_only=True, mode='max')\n",
        "\n",
        "model.fit(X_train, y_train, batch_size=16, epochs=50,callbacks=[checkpoint], validation_data=(X_test, y_test))\n",
        "#model.fit(X_train, y_train, batch_size=16, epochs=20,callbacks=[checkpoint], validation_data=(X_test, y_test))"
      ],
      "metadata": {
        "colab": {
          "base_uri": "https://localhost:8080/"
        },
        "id": "MReVwZpmd5TV",
        "outputId": "a830f505-eb7f-4c7f-afac-10c0a9fedb5a"
      },
      "execution_count": null,
      "outputs": [
        {
          "output_type": "stream",
          "name": "stdout",
          "text": [
            "Epoch 1/50\n",
            "30/30 [==============================] - 24s 733ms/step - loss: 78.9112 - categorical_accuracy: 0.2930 - val_loss: 1.5038 - val_categorical_accuracy: 0.3305\n",
            "Epoch 2/50\n",
            "30/30 [==============================] - 16s 546ms/step - loss: 1.3063 - categorical_accuracy: 0.4883 - val_loss: 1.2445 - val_categorical_accuracy: 0.5678\n",
            "Epoch 3/50\n",
            "30/30 [==============================] - 15s 513ms/step - loss: 0.9748 - categorical_accuracy: 0.6263 - val_loss: 1.6005 - val_categorical_accuracy: 0.4492\n",
            "Epoch 4/50\n",
            "30/30 [==============================] - 16s 549ms/step - loss: 0.9072 - categorical_accuracy: 0.6985 - val_loss: 1.1797 - val_categorical_accuracy: 0.7203\n",
            "Epoch 5/50\n",
            "30/30 [==============================] - 16s 541ms/step - loss: 0.8753 - categorical_accuracy: 0.6688 - val_loss: 0.8494 - val_categorical_accuracy: 0.7627\n",
            "Epoch 6/50\n",
            "30/30 [==============================] - 16s 539ms/step - loss: 0.9129 - categorical_accuracy: 0.7325 - val_loss: 1.3165 - val_categorical_accuracy: 0.6186\n",
            "Epoch 7/50\n",
            "30/30 [==============================] - 15s 486ms/step - loss: 0.8037 - categorical_accuracy: 0.7261 - val_loss: 1.4076 - val_categorical_accuracy: 0.7203\n",
            "Epoch 8/50\n",
            "30/30 [==============================] - 15s 509ms/step - loss: 0.7163 - categorical_accuracy: 0.7771 - val_loss: 1.1873 - val_categorical_accuracy: 0.7797\n",
            "Epoch 9/50\n",
            "30/30 [==============================] - 16s 520ms/step - loss: 0.5320 - categorical_accuracy: 0.8450 - val_loss: 1.1626 - val_categorical_accuracy: 0.7881\n",
            "Epoch 10/50\n",
            "30/30 [==============================] - 18s 582ms/step - loss: 0.5435 - categorical_accuracy: 0.8323 - val_loss: 0.8390 - val_categorical_accuracy: 0.7881\n",
            "Epoch 11/50\n",
            "30/30 [==============================] - 16s 553ms/step - loss: 0.3900 - categorical_accuracy: 0.8620 - val_loss: 0.7946 - val_categorical_accuracy: 0.8220\n",
            "Epoch 12/50\n",
            "30/30 [==============================] - 15s 521ms/step - loss: 0.3519 - categorical_accuracy: 0.8641 - val_loss: 1.2790 - val_categorical_accuracy: 0.8051\n",
            "Epoch 13/50\n",
            "30/30 [==============================] - 15s 502ms/step - loss: 0.3290 - categorical_accuracy: 0.8854 - val_loss: 0.9851 - val_categorical_accuracy: 0.7712\n",
            "Epoch 14/50\n",
            "30/30 [==============================] - 14s 486ms/step - loss: 0.4190 - categorical_accuracy: 0.8769 - val_loss: 0.8679 - val_categorical_accuracy: 0.7458\n",
            "Epoch 15/50\n",
            "30/30 [==============================] - 15s 505ms/step - loss: 0.2589 - categorical_accuracy: 0.9130 - val_loss: 2.1613 - val_categorical_accuracy: 0.7119\n",
            "Epoch 16/50\n",
            "30/30 [==============================] - 15s 518ms/step - loss: 0.4776 - categorical_accuracy: 0.8429 - val_loss: 1.1608 - val_categorical_accuracy: 0.7288\n",
            "Epoch 17/50\n",
            "30/30 [==============================] - 15s 514ms/step - loss: 0.4459 - categorical_accuracy: 0.8408 - val_loss: 0.8872 - val_categorical_accuracy: 0.8136\n",
            "Epoch 18/50\n",
            "30/30 [==============================] - 15s 497ms/step - loss: 0.3256 - categorical_accuracy: 0.9023 - val_loss: 0.9867 - val_categorical_accuracy: 0.8051\n",
            "Epoch 19/50\n",
            "30/30 [==============================] - 17s 560ms/step - loss: 0.2723 - categorical_accuracy: 0.9087 - val_loss: 0.8054 - val_categorical_accuracy: 0.8220\n",
            "Epoch 20/50\n",
            "30/30 [==============================] - 15s 512ms/step - loss: 0.2065 - categorical_accuracy: 0.9406 - val_loss: 1.1665 - val_categorical_accuracy: 0.7797\n",
            "Epoch 21/50\n",
            "30/30 [==============================] - 16s 535ms/step - loss: 0.2356 - categorical_accuracy: 0.9299 - val_loss: 1.2392 - val_categorical_accuracy: 0.8475\n",
            "Epoch 22/50\n",
            "30/30 [==============================] - 15s 507ms/step - loss: 0.2022 - categorical_accuracy: 0.9363 - val_loss: 1.0574 - val_categorical_accuracy: 0.7881\n",
            "Epoch 23/50\n",
            "30/30 [==============================] - 15s 486ms/step - loss: 0.4474 - categorical_accuracy: 0.8854 - val_loss: 1.4783 - val_categorical_accuracy: 0.6780\n",
            "Epoch 24/50\n",
            "30/30 [==============================] - 14s 469ms/step - loss: 0.9100 - categorical_accuracy: 0.8089 - val_loss: 1.6279 - val_categorical_accuracy: 0.7797\n",
            "Epoch 25/50\n",
            "30/30 [==============================] - 15s 491ms/step - loss: 0.5456 - categorical_accuracy: 0.8493 - val_loss: 0.7012 - val_categorical_accuracy: 0.7881\n",
            "Epoch 26/50\n",
            "30/30 [==============================] - 14s 468ms/step - loss: 0.3443 - categorical_accuracy: 0.9002 - val_loss: 0.7591 - val_categorical_accuracy: 0.8051\n",
            "Epoch 27/50\n",
            "30/30 [==============================] - 15s 491ms/step - loss: 0.2542 - categorical_accuracy: 0.9257 - val_loss: 0.8977 - val_categorical_accuracy: 0.7881\n",
            "Epoch 28/50\n",
            "30/30 [==============================] - 15s 490ms/step - loss: 0.1562 - categorical_accuracy: 0.9384 - val_loss: 0.7637 - val_categorical_accuracy: 0.8051\n",
            "Epoch 29/50\n",
            "30/30 [==============================] - 17s 555ms/step - loss: 0.1347 - categorical_accuracy: 0.9448 - val_loss: 0.8614 - val_categorical_accuracy: 0.8051\n",
            "Epoch 30/50\n",
            "30/30 [==============================] - 15s 491ms/step - loss: 0.1286 - categorical_accuracy: 0.9533 - val_loss: 0.9018 - val_categorical_accuracy: 0.7881\n",
            "Epoch 31/50\n",
            "30/30 [==============================] - 16s 513ms/step - loss: 0.1263 - categorical_accuracy: 0.9618 - val_loss: 0.9171 - val_categorical_accuracy: 0.8644\n",
            "Epoch 32/50\n",
            "30/30 [==============================] - 15s 478ms/step - loss: 0.1522 - categorical_accuracy: 0.9554 - val_loss: 1.1378 - val_categorical_accuracy: 0.7881\n",
            "Epoch 33/50\n",
            "30/30 [==============================] - 16s 538ms/step - loss: 0.1659 - categorical_accuracy: 0.9639 - val_loss: 1.4187 - val_categorical_accuracy: 0.6864\n",
            "Epoch 34/50\n",
            "30/30 [==============================] - 15s 494ms/step - loss: 0.1554 - categorical_accuracy: 0.9490 - val_loss: 1.3754 - val_categorical_accuracy: 0.6525\n",
            "Epoch 35/50\n",
            "30/30 [==============================] - 15s 493ms/step - loss: 0.1925 - categorical_accuracy: 0.9363 - val_loss: 1.1309 - val_categorical_accuracy: 0.7542\n",
            "Epoch 36/50\n",
            "30/30 [==============================] - 15s 516ms/step - loss: 0.1106 - categorical_accuracy: 0.9639 - val_loss: 0.8519 - val_categorical_accuracy: 0.7966\n",
            "Epoch 37/50\n",
            "30/30 [==============================] - 15s 510ms/step - loss: 0.0589 - categorical_accuracy: 0.9809 - val_loss: 0.9536 - val_categorical_accuracy: 0.8051\n",
            "Epoch 38/50\n",
            "30/30 [==============================] - 17s 569ms/step - loss: 0.0317 - categorical_accuracy: 0.9915 - val_loss: 0.9304 - val_categorical_accuracy: 0.8220\n",
            "Epoch 39/50\n",
            "30/30 [==============================] - 15s 498ms/step - loss: 0.0665 - categorical_accuracy: 0.9830 - val_loss: 1.4278 - val_categorical_accuracy: 0.8136\n",
            "Epoch 40/50\n",
            "30/30 [==============================] - 15s 499ms/step - loss: 0.1710 - categorical_accuracy: 0.9639 - val_loss: 1.5031 - val_categorical_accuracy: 0.7034\n",
            "Epoch 41/50\n",
            "30/30 [==============================] - 15s 504ms/step - loss: 0.2060 - categorical_accuracy: 0.9469 - val_loss: 0.8768 - val_categorical_accuracy: 0.8390\n",
            "Epoch 42/50\n",
            "30/30 [==============================] - 15s 505ms/step - loss: 0.0618 - categorical_accuracy: 0.9766 - val_loss: 1.0974 - val_categorical_accuracy: 0.8305\n",
            "Epoch 43/50\n",
            "30/30 [==============================] - 15s 506ms/step - loss: 0.1695 - categorical_accuracy: 0.9597 - val_loss: 0.9888 - val_categorical_accuracy: 0.8305\n",
            "Epoch 44/50\n",
            "30/30 [==============================] - 15s 516ms/step - loss: 0.4594 - categorical_accuracy: 0.9023 - val_loss: 0.8323 - val_categorical_accuracy: 0.8220\n",
            "Epoch 45/50\n",
            "30/30 [==============================] - 15s 508ms/step - loss: 0.7113 - categorical_accuracy: 0.8004 - val_loss: 1.5485 - val_categorical_accuracy: 0.5424\n",
            "Epoch 46/50\n",
            "30/30 [==============================] - 15s 508ms/step - loss: 0.2684 - categorical_accuracy: 0.9087 - val_loss: 0.9920 - val_categorical_accuracy: 0.7627\n",
            "Epoch 47/50\n",
            "30/30 [==============================] - 15s 516ms/step - loss: 0.1682 - categorical_accuracy: 0.9554 - val_loss: 1.5168 - val_categorical_accuracy: 0.7373\n",
            "Epoch 48/50\n",
            "30/30 [==============================] - 15s 519ms/step - loss: 0.3185 - categorical_accuracy: 0.9342 - val_loss: 1.7726 - val_categorical_accuracy: 0.6864\n",
            "Epoch 49/50\n",
            "30/30 [==============================] - 15s 505ms/step - loss: 0.6648 - categorical_accuracy: 0.8365 - val_loss: 1.5603 - val_categorical_accuracy: 0.7458\n",
            "Epoch 50/50\n",
            "30/30 [==============================] - 15s 507ms/step - loss: 0.4547 - categorical_accuracy: 0.9002 - val_loss: 0.9908 - val_categorical_accuracy: 0.7542\n"
          ]
        },
        {
          "output_type": "execute_result",
          "data": {
            "text/plain": [
              "<keras.callbacks.History at 0x7a46fd8fa7d0>"
            ]
          },
          "metadata": {},
          "execution_count": 57
        }
      ]
    },
    {
      "cell_type": "code",
      "source": [
        "\n",
        "best_model = load_model(checkpoint_filepath)\n"
      ],
      "metadata": {
        "id": "P2ESKLCH-Z11"
      },
      "execution_count": null,
      "outputs": []
    },
    {
      "cell_type": "code",
      "source": [
        "# Evaluate the model on the validation dataset\n",
        "val_loss, val_accuracy = best_model.evaluate(X_test, y_test)\n",
        "\n",
        "# Print the validation loss and accuracy\n",
        "print(\"Validation Loss:\", val_loss)\n",
        "print(\"Validation Accuracy:\", val_accuracy)"
      ],
      "metadata": {
        "colab": {
          "base_uri": "https://localhost:8080/"
        },
        "id": "IhZJreUMd_Zm",
        "outputId": "6d3ddd82-b21c-449c-ae89-fc6d97807bfa"
      },
      "execution_count": null,
      "outputs": [
        {
          "output_type": "stream",
          "name": "stdout",
          "text": [
            "4/4 [==============================] - 1s 173ms/step - loss: 0.9171 - categorical_accuracy: 0.8644\n",
            "Validation Loss: 0.9171446561813354\n",
            "Validation Accuracy: 0.8644067645072937\n"
          ]
        }
      ]
    },
    {
      "cell_type": "code",
      "source": [
        "y_pred_probs = best_model.predict(X_test)\n",
        "y_pred_labels = np.argmax(y_pred_probs, axis=1)  # Convert probabilities to class labels\n",
        "\n",
        "# Compute confusion matrix\n",
        "conf_matrix = confusion_matrix(np.argmax(y_test, axis=1), y_pred_labels)\n",
        "\n",
        "plt.figure(figsize=(10, 8))\n",
        "sns.heatmap(conf_matrix, annot=True, fmt='d', cmap='Blues')\n",
        "plt.xlabel('Predicted Labels')\n",
        "plt.ylabel('True Labels')\n",
        "plt.title('Confusion Matrix')\n",
        "plt.show()"
      ],
      "metadata": {
        "colab": {
          "base_uri": "https://localhost:8080/",
          "height": 735
        },
        "id": "eFC3Rh3m9jgv",
        "outputId": "1288d667-e989-44b5-a4f3-050cf71c0cbb"
      },
      "execution_count": null,
      "outputs": [
        {
          "output_type": "stream",
          "name": "stdout",
          "text": [
            "4/4 [==============================] - 1s 227ms/step\n"
          ]
        },
        {
          "output_type": "display_data",
          "data": {
            "text/plain": [
              "<Figure size 1000x800 with 2 Axes>"
            ],
            "image/png": "[encoded data removed]"
          },
          "metadata": {}
        }
      ]
    },
    {
      "cell_type": "code",
      "source": [
        "# Calculate accuracy\n",
        "accuracy = accuracy_score(np.argmax(y_test, axis=1), y_pred_labels)\n",
        "accuracy"
      ],
      "metadata": {
        "colab": {
          "base_uri": "https://localhost:8080/"
        },
        "id": "GGlNEQe0-ary",
        "outputId": "6dd0513e-27c7-4d69-a76b-18b0573417ab"
      },
      "execution_count": null,
      "outputs": [
        {
          "output_type": "execute_result",
          "data": {
            "text/plain": [
              "0.864406779661017"
            ]
          },
          "metadata": {},
          "execution_count": 61
        }
      ]
    },
    {
      "cell_type": "code",
      "source": [],
      "metadata": {
        "id": "okFPJqyn-nID"
      },
      "execution_count": null,
      "outputs": []
    },
    {
      "cell_type": "code",
      "source": [],
      "metadata": {
        "id": "ypUoVjCGR0tS"
      },
      "execution_count": null,
      "outputs": []
    }
  ]
}