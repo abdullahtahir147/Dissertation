{
 "cells": [
  {
   "cell_type": "code",
   "execution_count": 3,
   "id": "1a45b7d5",
   "metadata": {},
   "outputs": [],
   "source": [
    "# Analyzing, cleaning, exploring data\n",
    "import pandas as pd \n",
    "from pandas import DataFrame\n",
    "\n",
    "# Performing math operations on arrays and other structures.\n",
    "import numpy as np\n",
    "\n",
    "# Visualizing data\n",
    "import matplotlib.pyplot as plt \n"
   ]
  },
  {
   "cell_type": "code",
   "execution_count": null,
   "id": "2439c2e4",
   "metadata": {},
   "outputs": [],
   "source": []
  }
 ],
 "metadata": {
  "kernelspec": {
   "display_name": "Python 3 (ipykernel)",
   "language": "python",
   "name": "python3"
  },
  "language_info": {
   "codemirror_mode": {
    "name": "ipython",
    "version": 3
   },
   "file_extension": ".py",
   "mimetype": "text/x-python",
   "name": "python",
   "nbconvert_exporter": "python",
   "pygments_lexer": "ipython3",
   "version": "3.9.7"
  }
 },
 "nbformat": 4,
 "nbformat_minor": 5
}
