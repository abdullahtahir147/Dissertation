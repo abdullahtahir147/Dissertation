{
 "cells": [
  {
   "cell_type": "code",
   "execution_count": null,
   "id": "cf9bcfc1",
   "metadata": {
    "scrolled": true
   },
   "outputs": [],
   "source": [
    "conda install -c conda-forge opencv\n"
   ]
  },
  {
   "cell_type": "code",
   "execution_count": 1,
   "id": "1a45b7d5",
   "metadata": {},
   "outputs": [],
   "source": [
    "# Analyzing, cleaning, exploring data\n",
    "import pandas as pd \n",
    "from pandas import DataFrame\n",
    "import re\n",
    "import glob\n",
    "\n",
    "\n",
    "# Performing math operations on arrays and other structures.\n",
    "import numpy as np\n",
    "\n",
    "# Visualizing data\n",
    "import matplotlib.pyplot as plt \n",
    "\n",
    "from sklearn.preprocessing import LabelEncoder\n",
    "\n",
    "import pywt\n",
    "\n",
    "\n",
    "from sklearn.model_selection import train_test_split"
   ]
  },
  {
   "cell_type": "markdown",
   "id": "f73d48e8",
   "metadata": {},
   "source": [
    "## Importing data and extracting to a dataframe"
   ]
  },
  {
   "cell_type": "code",
   "execution_count": null,
   "id": "85f68412",
   "metadata": {},
   "outputs": [],
   "source": [
    "\n",
    "new_list2 = []\n",
    "\n",
    "columns = ['Timestamp', 'El1', 'El2', 'El3','El4', 'El5', 'El6','El7', 'El8']\n",
    "\n",
    "\n",
    "# Specify the folder path where the CSV files are located\n",
    "folder_path = \"first_try/\"\n",
    "\n",
    "# Get a list of all CSV files in the folder\n",
    "file_list = glob.glob(folder_path + \"*.csv\")\n",
    "\n",
    "# Create an empty list to store the data from each CSV file\n",
    "dataframes = []\n",
    "total_num_rows = 0  # Variable to store the total number of rows\n",
    "extracted_strings = []\n",
    "\n",
    "\n",
    "# Loop through each CSV file, read it into a DataFrame, and append it to the list\n",
    "for file in file_list:\n",
    "    df = pd.read_csv(file, names=columns)\n",
    "    num_rows = df.shape[0]\n",
    "    \n",
    "    file_name = file.split(\"/\")[-1]  # Extract the file name from the file path\n",
    "    extracted_string = re.search(r'-(.*?)-', file_name).group(1)  # Extract the desired string using regex\n",
    "        \n",
    "    extracted_strings.extend([extracted_string] * num_rows)\n",
    "    \n",
    "    \n",
    "    extracted_numbers = re.findall(r'\\d+', file)[0]\n",
    "\n",
    "    \n",
    "    new_list = [extracted_numbers] * num_rows\n",
    "    new_list2.append(new_list)\n",
    "    dataframes.append(df)\n",
    "    \n",
    "    total_num_rows += num_rows\n",
    "\n",
    "\n",
    "# Concatenate all DataFrames in the list into a single DataFrame\n",
    "data = pd.concat(dataframes, ignore_index=True)\n",
    "\n",
    "new_list2 = [item for sublist in new_list2 for item in sublist]  # Flatten the nested list\n"
   ]
  },
  {
   "cell_type": "code",
   "execution_count": null,
   "id": "2ae6be46",
   "metadata": {},
   "outputs": [],
   "source": [
    "data"
   ]
  },
  {
   "cell_type": "code",
   "execution_count": null,
   "id": "d4ebf527",
   "metadata": {},
   "outputs": [],
   "source": [
    "\n"
   ]
  },
  {
   "cell_type": "code",
   "execution_count": null,
   "id": "b63e5150",
   "metadata": {},
   "outputs": [],
   "source": []
  },
  {
   "cell_type": "code",
   "execution_count": null,
   "id": "676ee5d2",
   "metadata": {},
   "outputs": [],
   "source": []
  },
  {
   "cell_type": "code",
   "execution_count": null,
   "id": "b32994c1",
   "metadata": {},
   "outputs": [],
   "source": [
    "le = LabelEncoder()\n",
    "data['encoded_column'] = le.fit_transform(data['Gesture'])"
   ]
  },
  {
   "cell_type": "code",
   "execution_count": null,
   "id": "aec73a1a",
   "metadata": {
    "scrolled": true
   },
   "outputs": [],
   "source": [
    "data"
   ]
  },
  {
   "cell_type": "code",
   "execution_count": null,
   "id": "537ae797",
   "metadata": {},
   "outputs": [],
   "source": [
    "target = "
   ]
  },
  {
   "cell_type": "code",
   "execution_count": null,
   "id": "d11bbfb7",
   "metadata": {},
   "outputs": [],
   "source": [
    "data.Gesture.value_counts()"
   ]
  },
  {
   "cell_type": "code",
   "execution_count": null,
   "id": "4acc6083",
   "metadata": {},
   "outputs": [],
   "source": [
    "data.Gesture.value_counts()"
   ]
  },
  {
   "cell_type": "code",
   "execution_count": null,
   "id": "b5f8c8d6",
   "metadata": {},
   "outputs": [],
   "source": [
    "data.encoded_column.value_counts()"
   ]
  },
  {
   "cell_type": "markdown",
   "id": "6e39e604",
   "metadata": {},
   "source": [
    "## Data Cleaning"
   ]
  },
  {
   "cell_type": "code",
   "execution_count": null,
   "id": "b28e9125",
   "metadata": {},
   "outputs": [],
   "source": [
    "data.describe(include=\"all\")"
   ]
  },
  {
   "cell_type": "code",
   "execution_count": null,
   "id": "7c732ea3",
   "metadata": {},
   "outputs": [],
   "source": [
    "hist = data.hist(figsize=(16, 8))"
   ]
  },
  {
   "cell_type": "code",
   "execution_count": null,
   "id": "0916622e",
   "metadata": {},
   "outputs": [],
   "source": [
    "print(df.iloc[0, 0+1])"
   ]
  },
  {
   "cell_type": "code",
   "execution_count": null,
   "id": "b3886d46",
   "metadata": {},
   "outputs": [],
   "source": [
    "print(df)"
   ]
  },
  {
   "cell_type": "code",
   "execution_count": null,
   "id": "2401f198",
   "metadata": {},
   "outputs": [],
   "source": [
    "\n",
    "\n"
   ]
  },
  {
   "cell_type": "code",
   "execution_count": 32,
   "id": "1a766d39",
   "metadata": {},
   "outputs": [],
   "source": [
    "truncated_data = []\n",
    "new_list2 = []\n",
    "dataframes = []\n",
    "total_num_rows = 0  # Variable to store the total number of rows\n",
    "extracted_strings = []\n",
    "\n",
    "gesture_list = []\n",
    "\n",
    "# Specify the folder path where the CSV files are located\n",
    "folder_path = \"Test2/\"\n",
    "\n",
    "columns = ['Timestamp', 'El1', 'El2', 'El3','El4', 'El5', 'El6','El7', 'El8']\n",
    "\n",
    "\n",
    "# Get a list of all CSV files in the folder\n",
    "file_list = glob.glob(folder_path + \"*.csv\")\n",
    "\n",
    "for file in file_list:\n",
    "    df = pd.read_csv(file, names=columns)\n",
    "    \n",
    "    # Truncate the DataFrame to 200 rows\n",
    "    truncated_df = df[:150]\n",
    "    \n",
    "    # Add the truncated DataFrame to the list\n",
    "    truncated_data.append(truncated_df)\n",
    "    num_rows = 200\n",
    "    \n",
    "    file_name = file.split(\"/\")[-1]  # Extract the file name from the file path\n",
    "    gesture = re.search(r'-(.*?)-', file_name).group(1)  # Extract the desired string using regex\n",
    "        \n",
    "    gesture_list.extend([gesture])\n",
    "    \n",
    "    extracted_strings.extend([gesture] * num_rows)\n",
    "    \n",
    "    \n",
    "    extracted_numbers = re.findall(r'\\d+', file)[0]\n",
    "\n",
    "    \n",
    "    new_list = [extracted_numbers] * num_rows\n",
    "    new_list2.append(new_list)\n",
    "    dataframes.append(df)\n",
    "    \n",
    "    total_num_rows += num_rows\n",
    "        \n",
    "    \n",
    "    \n",
    "\n",
    "combined_df = pd.concat(truncated_data, ignore_index=False)\n",
    "new_list2 = [item for sublist in new_list2 for item in sublist]  # Flatten the nested list\n"
   ]
  },
  {
   "cell_type": "code",
   "execution_count": 33,
   "id": "54588bb3",
   "metadata": {},
   "outputs": [
    {
     "data": {
      "text/plain": [
       "['grasp',\n",
       " 'grasp',\n",
       " 'grasp',\n",
       " 'grasp',\n",
       " 'grasp',\n",
       " 'tripod',\n",
       " 'tripod',\n",
       " 'close',\n",
       " 'close',\n",
       " 'tripod',\n",
       " 'grasp',\n",
       " 'grasp',\n",
       " 'open',\n",
       " 'lateral',\n",
       " 'close',\n",
       " 'close',\n",
       " 'close',\n",
       " 'close',\n",
       " 'close',\n",
       " 'lateral']"
      ]
     },
     "execution_count": 33,
     "metadata": {},
     "output_type": "execute_result"
    }
   ],
   "source": [
    "gesture_list"
   ]
  },
  {
   "cell_type": "code",
   "execution_count": 34,
   "id": "3a33d33b",
   "metadata": {},
   "outputs": [],
   "source": [
    "#combined_df[\"P_ID\"] = new_list2\n",
    "#combined_df[\"Gesture\"] = extracted_strings"
   ]
  },
  {
   "cell_type": "code",
   "execution_count": 35,
   "id": "b5d3b201",
   "metadata": {},
   "outputs": [],
   "source": [
    "#target = combined_df[\"Gesture\"].copy()\n",
    "#combined_df =combined_df.drop('Gesture', axis= 1)\n"
   ]
  },
  {
   "cell_type": "code",
   "execution_count": null,
   "id": "c7ce8f6e",
   "metadata": {},
   "outputs": [],
   "source": []
  },
  {
   "cell_type": "code",
   "execution_count": 36,
   "id": "cdcdd6fd",
   "metadata": {
    "scrolled": true
   },
   "outputs": [
    {
     "data": {
      "text/html": [
       "<div>\n",
       "<style scoped>\n",
       "    .dataframe tbody tr th:only-of-type {\n",
       "        vertical-align: middle;\n",
       "    }\n",
       "\n",
       "    .dataframe tbody tr th {\n",
       "        vertical-align: top;\n",
       "    }\n",
       "\n",
       "    .dataframe thead th {\n",
       "        text-align: right;\n",
       "    }\n",
       "</style>\n",
       "<table border=\"1\" class=\"dataframe\">\n",
       "  <thead>\n",
       "    <tr style=\"text-align: right;\">\n",
       "      <th></th>\n",
       "      <th>Timestamp</th>\n",
       "      <th>El1</th>\n",
       "      <th>El2</th>\n",
       "      <th>El3</th>\n",
       "      <th>El4</th>\n",
       "      <th>El5</th>\n",
       "      <th>El6</th>\n",
       "      <th>El7</th>\n",
       "      <th>El8</th>\n",
       "    </tr>\n",
       "  </thead>\n",
       "  <tbody>\n",
       "    <tr>\n",
       "      <th>0</th>\n",
       "      <td>1643730630270</td>\n",
       "      <td>30</td>\n",
       "      <td>41</td>\n",
       "      <td>97</td>\n",
       "      <td>90</td>\n",
       "      <td>106</td>\n",
       "      <td>266</td>\n",
       "      <td>193</td>\n",
       "      <td>47</td>\n",
       "    </tr>\n",
       "    <tr>\n",
       "      <th>1</th>\n",
       "      <td>1643730630271</td>\n",
       "      <td>30</td>\n",
       "      <td>41</td>\n",
       "      <td>97</td>\n",
       "      <td>90</td>\n",
       "      <td>106</td>\n",
       "      <td>266</td>\n",
       "      <td>193</td>\n",
       "      <td>47</td>\n",
       "    </tr>\n",
       "    <tr>\n",
       "      <th>2</th>\n",
       "      <td>1643730630397</td>\n",
       "      <td>32</td>\n",
       "      <td>46</td>\n",
       "      <td>88</td>\n",
       "      <td>92</td>\n",
       "      <td>108</td>\n",
       "      <td>273</td>\n",
       "      <td>204</td>\n",
       "      <td>48</td>\n",
       "    </tr>\n",
       "    <tr>\n",
       "      <th>3</th>\n",
       "      <td>1643730630523</td>\n",
       "      <td>33</td>\n",
       "      <td>47</td>\n",
       "      <td>88</td>\n",
       "      <td>93</td>\n",
       "      <td>101</td>\n",
       "      <td>261</td>\n",
       "      <td>177</td>\n",
       "      <td>46</td>\n",
       "    </tr>\n",
       "    <tr>\n",
       "      <th>4</th>\n",
       "      <td>1643730630524</td>\n",
       "      <td>33</td>\n",
       "      <td>47</td>\n",
       "      <td>88</td>\n",
       "      <td>93</td>\n",
       "      <td>101</td>\n",
       "      <td>261</td>\n",
       "      <td>177</td>\n",
       "      <td>46</td>\n",
       "    </tr>\n",
       "    <tr>\n",
       "      <th>...</th>\n",
       "      <td>...</td>\n",
       "      <td>...</td>\n",
       "      <td>...</td>\n",
       "      <td>...</td>\n",
       "      <td>...</td>\n",
       "      <td>...</td>\n",
       "      <td>...</td>\n",
       "      <td>...</td>\n",
       "      <td>...</td>\n",
       "    </tr>\n",
       "    <tr>\n",
       "      <th>195</th>\n",
       "      <td>1643730269759</td>\n",
       "      <td>26</td>\n",
       "      <td>74</td>\n",
       "      <td>146</td>\n",
       "      <td>92</td>\n",
       "      <td>171</td>\n",
       "      <td>196</td>\n",
       "      <td>114</td>\n",
       "      <td>36</td>\n",
       "    </tr>\n",
       "    <tr>\n",
       "      <th>196</th>\n",
       "      <td>1643730269764</td>\n",
       "      <td>26</td>\n",
       "      <td>75</td>\n",
       "      <td>150</td>\n",
       "      <td>100</td>\n",
       "      <td>177</td>\n",
       "      <td>177</td>\n",
       "      <td>110</td>\n",
       "      <td>36</td>\n",
       "    </tr>\n",
       "    <tr>\n",
       "      <th>197</th>\n",
       "      <td>1643730269770</td>\n",
       "      <td>28</td>\n",
       "      <td>52</td>\n",
       "      <td>122</td>\n",
       "      <td>91</td>\n",
       "      <td>168</td>\n",
       "      <td>155</td>\n",
       "      <td>95</td>\n",
       "      <td>37</td>\n",
       "    </tr>\n",
       "    <tr>\n",
       "      <th>198</th>\n",
       "      <td>1643730269775</td>\n",
       "      <td>28</td>\n",
       "      <td>53</td>\n",
       "      <td>124</td>\n",
       "      <td>86</td>\n",
       "      <td>160</td>\n",
       "      <td>151</td>\n",
       "      <td>95</td>\n",
       "      <td>36</td>\n",
       "    </tr>\n",
       "    <tr>\n",
       "      <th>199</th>\n",
       "      <td>1643730269781</td>\n",
       "      <td>27</td>\n",
       "      <td>57</td>\n",
       "      <td>116</td>\n",
       "      <td>104</td>\n",
       "      <td>184</td>\n",
       "      <td>164</td>\n",
       "      <td>84</td>\n",
       "      <td>33</td>\n",
       "    </tr>\n",
       "  </tbody>\n",
       "</table>\n",
       "<p>3954 rows × 9 columns</p>\n",
       "</div>"
      ],
      "text/plain": [
       "         Timestamp  El1  El2  El3  El4  El5  El6  El7  El8\n",
       "0    1643730630270   30   41   97   90  106  266  193   47\n",
       "1    1643730630271   30   41   97   90  106  266  193   47\n",
       "2    1643730630397   32   46   88   92  108  273  204   48\n",
       "3    1643730630523   33   47   88   93  101  261  177   46\n",
       "4    1643730630524   33   47   88   93  101  261  177   46\n",
       "..             ...  ...  ...  ...  ...  ...  ...  ...  ...\n",
       "195  1643730269759   26   74  146   92  171  196  114   36\n",
       "196  1643730269764   26   75  150  100  177  177  110   36\n",
       "197  1643730269770   28   52  122   91  168  155   95   37\n",
       "198  1643730269775   28   53  124   86  160  151   95   36\n",
       "199  1643730269781   27   57  116  104  184  164   84   33\n",
       "\n",
       "[3954 rows x 9 columns]"
      ]
     },
     "execution_count": 36,
     "metadata": {},
     "output_type": "execute_result"
    }
   ],
   "source": [
    "combined_df"
   ]
  },
  {
   "cell_type": "code",
   "execution_count": 37,
   "id": "42310a87",
   "metadata": {},
   "outputs": [],
   "source": [
    "df = combined_df.copy()"
   ]
  },
  {
   "cell_type": "code",
   "execution_count": null,
   "id": "caf7b586",
   "metadata": {},
   "outputs": [],
   "source": []
  },
  {
   "cell_type": "code",
   "execution_count": 38,
   "id": "907f8ffd",
   "metadata": {},
   "outputs": [
    {
     "ename": "ValueError",
     "evalue": "cannot reshape array of size 31632 into shape (200,8)",
     "output_type": "error",
     "traceback": [
      "\u001b[0;31m---------------------------------------------------------------------------\u001b[0m",
      "\u001b[0;31mValueError\u001b[0m                                Traceback (most recent call last)",
      "\u001b[0;32m/var/folders/qx/kwxzb4sj2bjbxg1dwdlypnxc0000gn/T/ipykernel_98114/717869087.py\u001b[0m in \u001b[0;36m<module>\u001b[0;34m\u001b[0m\n\u001b[1;32m     10\u001b[0m \u001b[0;34m\u001b[0m\u001b[0m\n\u001b[1;32m     11\u001b[0m \u001b[0;31m# Reshape the data into 3D array (number of samples, number of rows, number of columns)\u001b[0m\u001b[0;34m\u001b[0m\u001b[0;34m\u001b[0m\u001b[0m\n\u001b[0;32m---> 12\u001b[0;31m \u001b[0mdata\u001b[0m \u001b[0;34m=\u001b[0m \u001b[0mdata\u001b[0m\u001b[0;34m.\u001b[0m\u001b[0mreshape\u001b[0m\u001b[0;34m(\u001b[0m\u001b[0;34m-\u001b[0m\u001b[0;36m1\u001b[0m\u001b[0;34m,\u001b[0m \u001b[0mnum_rows\u001b[0m\u001b[0;34m,\u001b[0m \u001b[0mnum_columns\u001b[0m\u001b[0;34m)\u001b[0m\u001b[0;34m\u001b[0m\u001b[0;34m\u001b[0m\u001b[0m\n\u001b[0m\u001b[1;32m     13\u001b[0m \u001b[0;34m\u001b[0m\u001b[0m\n\u001b[1;32m     14\u001b[0m \u001b[0;31m# Apply continuous wavelet transform to each sample\u001b[0m\u001b[0;34m\u001b[0m\u001b[0;34m\u001b[0m\u001b[0m\n",
      "\u001b[0;31mValueError\u001b[0m: cannot reshape array of size 31632 into shape (200,8)"
     ]
    }
   ],
   "source": [
    "\n",
    "# Define the parameters\n",
    "scales = np.arange(1, 128)\n",
    "waveletname = \"morl\"\n",
    "num_rows = 200\n",
    "num_columns = 8\n",
    "\n",
    "\n",
    "# Extract the electrode readings columns\n",
    "data = df.iloc[:, 1:].values  # Exclude the timestamp column\n",
    "\n",
    "# Reshape the data into 3D array (number of samples, number of rows, number of columns)\n",
    "data = data.reshape(-1, num_rows, num_columns)\n",
    "\n",
    "# Apply continuous wavelet transform to each sample\n",
    "transformed_data = []\n",
    "\n",
    "\n",
    "for sample in data:\n",
    "    transformed_sample = []\n",
    "    for channel in sample.T:  # Transpose to loop over columns (channels)\n",
    "        coeff, _ = pywt.cwt(channel, scales, waveletname, 1)\n",
    "        transformed_sample.append(coeff)\n",
    "    transformed_data.append(np.array(transformed_sample))\n",
    "\n",
    "# Convert the transformed data into a numpy array\n",
    "transformed_data = np.array(transformed_data)"
   ]
  },
  {
   "cell_type": "code",
   "execution_count": 39,
   "id": "2716544e",
   "metadata": {},
   "outputs": [
    {
     "data": {
      "text/plain": [
       "24"
      ]
     },
     "execution_count": 39,
     "metadata": {},
     "output_type": "execute_result"
    }
   ],
   "source": [
    "transformed_data.shape[0]"
   ]
  },
  {
   "cell_type": "code",
   "execution_count": null,
   "id": "656b54df",
   "metadata": {},
   "outputs": [],
   "source": [
    "reshaped_data = transformed_data.transpose((0, 3, 2, 1))\n"
   ]
  },
  {
   "cell_type": "code",
   "execution_count": null,
   "id": "eb835cec",
   "metadata": {},
   "outputs": [],
   "source": [
    "# 24 files - signals\n",
    "# 200 rows \n",
    "# 127 coefficients for each row\n",
    "# 8 channels - columns\n",
    "print(reshaped_data.shape)"
   ]
  },
  {
   "cell_type": "code",
   "execution_count": null,
   "id": "dc137075",
   "metadata": {},
   "outputs": [],
   "source": []
  },
  {
   "cell_type": "code",
   "execution_count": null,
   "id": "af44692e",
   "metadata": {},
   "outputs": [],
   "source": [
    "X_train, X_test, y_train, y_test = train_test_split(reshaped_data, gesture_list, test_size=0.2, random_state=42)\n"
   ]
  },
  {
   "cell_type": "code",
   "execution_count": null,
   "id": "08ee6d9e",
   "metadata": {},
   "outputs": [],
   "source": [
    "X_train.shape[0]"
   ]
  },
  {
   "cell_type": "code",
   "execution_count": null,
   "id": "7ae8d9ad",
   "metadata": {},
   "outputs": [],
   "source": []
  }
 ],
 "metadata": {
  "kernelspec": {
   "display_name": "Python 3 (ipykernel)",
   "language": "python",
   "name": "python3"
  },
  "language_info": {
   "codemirror_mode": {
    "name": "ipython",
    "version": 3
   },
   "file_extension": ".py",
   "mimetype": "text/x-python",
   "name": "python",
   "nbconvert_exporter": "python",
   "pygments_lexer": "ipython3",
   "version": "3.9.7"
  }
 },
 "nbformat": 4,
 "nbformat_minor": 5
}
